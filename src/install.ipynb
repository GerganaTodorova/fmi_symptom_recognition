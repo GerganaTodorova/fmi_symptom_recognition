{
 "cells": [
  {
   "cell_type": "code",
   "execution_count": null,
   "metadata": {},
   "outputs": [],
   "source": [
    "pip install -U spacy"
   ]
  },
  {
   "cell_type": "code",
   "execution_count": null,
   "metadata": {},
   "outputs": [],
   "source": [
    "pip install stanza -U # if failed requirement torch>=1.3.0 use next command\n"
   ]
  },
  {
   "cell_type": "code",
   "execution_count": null,
   "metadata": {},
   "outputs": [],
   "source": [
    "# if the above failed with: requirement torch>=1.3.0 start next line\n",
    "#pip install torch===1.4.0 torchvision===0.5.0 -f https://download.pytorch.org/whl/torch_stable.html"
   ]
  },
  {
   "cell_type": "code",
   "execution_count": 1,
   "metadata": {},
   "outputs": [
    {
     "name": "stdout",
     "output_type": "stream",
     "text": [
      "Collecting spacy-stanza\n",
      "  Downloading spacy_stanza-0.2.4-py3-none-any.whl (9.1 kB)\n",
      "Collecting stanza<1.2.0,>=1.0.0\n",
      "  Using cached stanza-1.1.1-py3-none-any.whl (227 kB)\n",
      "Requirement already satisfied: spacy<3.0.0,>=2.1.0 in c:\\users\\misho\\anaconda3\\lib\\site-packages (from spacy-stanza) (2.3.2)\n",
      "Requirement already satisfied: torch>=1.3.0 in c:\\users\\misho\\anaconda3\\lib\\site-packages (from stanza<1.2.0,>=1.0.0->spacy-stanza) (1.4.0)\n",
      "Requirement already satisfied: numpy in c:\\users\\misho\\anaconda3\\lib\\site-packages (from stanza<1.2.0,>=1.0.0->spacy-stanza) (1.18.5)\n",
      "Requirement already satisfied: tqdm in c:\\users\\misho\\anaconda3\\lib\\site-packages (from stanza<1.2.0,>=1.0.0->spacy-stanza) (4.47.0)\n",
      "Requirement already satisfied: requests in c:\\users\\misho\\anaconda3\\lib\\site-packages (from stanza<1.2.0,>=1.0.0->spacy-stanza) (2.24.0)\n",
      "Collecting protobuf\n",
      "  Using cached protobuf-3.13.0-py2.py3-none-any.whl (438 kB)\n",
      "Requirement already satisfied: catalogue<1.1.0,>=0.0.7 in c:\\users\\misho\\anaconda3\\lib\\site-packages (from spacy<3.0.0,>=2.1.0->spacy-stanza) (1.0.0)\n",
      "Requirement already satisfied: plac<1.2.0,>=0.9.6 in c:\\users\\misho\\anaconda3\\lib\\site-packages (from spacy<3.0.0,>=2.1.0->spacy-stanza) (1.1.3)\n",
      "Requirement already satisfied: cymem<2.1.0,>=2.0.2 in c:\\users\\misho\\anaconda3\\lib\\site-packages (from spacy<3.0.0,>=2.1.0->spacy-stanza) (2.0.3)\n",
      "Requirement already satisfied: wasabi<1.1.0,>=0.4.0 in c:\\users\\misho\\anaconda3\\lib\\site-packages (from spacy<3.0.0,>=2.1.0->spacy-stanza) (0.8.0)\n",
      "Requirement already satisfied: setuptools in c:\\users\\misho\\anaconda3\\lib\\site-packages (from spacy<3.0.0,>=2.1.0->spacy-stanza) (49.2.0.post20200714)\n",
      "Requirement already satisfied: murmurhash<1.1.0,>=0.28.0 in c:\\users\\misho\\anaconda3\\lib\\site-packages (from spacy<3.0.0,>=2.1.0->spacy-stanza) (1.0.2)\n",
      "Requirement already satisfied: srsly<1.1.0,>=1.0.2 in c:\\users\\misho\\anaconda3\\lib\\site-packages (from spacy<3.0.0,>=2.1.0->spacy-stanza) (1.0.2)\n",
      "Requirement already satisfied: thinc==7.4.1 in c:\\users\\misho\\anaconda3\\lib\\site-packages (from spacy<3.0.0,>=2.1.0->spacy-stanza) (7.4.1)\n",
      "Requirement already satisfied: blis<0.5.0,>=0.4.0 in c:\\users\\misho\\anaconda3\\lib\\site-packages (from spacy<3.0.0,>=2.1.0->spacy-stanza) (0.4.1)\n",
      "Requirement already satisfied: preshed<3.1.0,>=3.0.2 in c:\\users\\misho\\anaconda3\\lib\\site-packages (from spacy<3.0.0,>=2.1.0->spacy-stanza) (3.0.2)\n",
      "Requirement already satisfied: chardet<4,>=3.0.2 in c:\\users\\misho\\anaconda3\\lib\\site-packages (from requests->stanza<1.2.0,>=1.0.0->spacy-stanza) (3.0.4)\n",
      "Requirement already satisfied: certifi>=2017.4.17 in c:\\users\\misho\\anaconda3\\lib\\site-packages (from requests->stanza<1.2.0,>=1.0.0->spacy-stanza) (2020.6.20)\n",
      "Requirement already satisfied: idna<3,>=2.5 in c:\\users\\misho\\anaconda3\\lib\\site-packages (from requests->stanza<1.2.0,>=1.0.0->spacy-stanza) (2.10)\n",
      "Requirement already satisfied: urllib3!=1.25.0,!=1.25.1,<1.26,>=1.21.1 in c:\\users\\misho\\anaconda3\\lib\\site-packages (from requests->stanza<1.2.0,>=1.0.0->spacy-stanza) (1.25.9)\n",
      "Requirement already satisfied: six>=1.9 in c:\\users\\misho\\anaconda3\\lib\\site-packages (from protobuf->stanza<1.2.0,>=1.0.0->spacy-stanza) (1.15.0)\n",
      "Installing collected packages: protobuf, stanza, spacy-stanza\n",
      "Successfully installed protobuf-3.13.0 spacy-stanza-0.2.4 stanza-1.1.1\n",
      "Note: you may need to restart the kernel to use updated packages.\n"
     ]
    }
   ],
   "source": [
    "pip install spacy-stanza"
   ]
  },
  {
   "cell_type": "code",
   "execution_count": null,
   "metadata": {},
   "outputs": [],
   "source": [
    "stanza.download('bg')"
   ]
  }
 ],
 "metadata": {
  "kernelspec": {
   "display_name": "Python 3",
   "language": "python",
   "name": "python3"
  },
  "language_info": {
   "codemirror_mode": {
    "name": "ipython",
    "version": 3
   },
   "file_extension": ".py",
   "mimetype": "text/x-python",
   "name": "python",
   "nbconvert_exporter": "python",
   "pygments_lexer": "ipython3",
   "version": "3.8.3"
  }
 },
 "nbformat": 4,
 "nbformat_minor": 4
}
