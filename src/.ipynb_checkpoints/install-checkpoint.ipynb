{
 "cells": [
  {
   "cell_type": "code",
   "execution_count": null,
   "metadata": {},
   "outputs": [],
   "source": [
    "pip install -U spacy"
   ]
  },
  {
   "cell_type": "code",
   "execution_count": null,
   "metadata": {},
   "outputs": [],
   "source": [
    "pip install stanza -U # if failed requirement torch>=1.3.0 use next command\n"
   ]
  },
  {
   "cell_type": "code",
   "execution_count": null,
   "metadata": {},
   "outputs": [],
   "source": [
    "# if the above failed with: requirement torch>=1.3.0 start next line\n",
    "#pip install torch===1.4.0 torchvision===0.5.0 -f https://download.pytorch.org/whl/torch_stable.html"
   ]
  },
  {
   "cell_type": "code",
   "execution_count": 1,
   "metadata": {},
   "outputs": [
    {
     "name": "stdout",
     "output_type": "stream",
     "text": [
      "Collecting spacy-stanza\n",
      "  Downloading spacy_stanza-0.2.4-py3-none-any.whl (9.1 kB)\n",
      "Collecting stanza<1.2.0,>=1.0.0\n",
      "  Using cached stanza-1.1.1-py3-none-any.whl (227 kB)\n",
      "Requirement already satisfied: spacy<3.0.0,>=2.1.0 in c:\\users\\misho\\anaconda3\\lib\\site-packages (from spacy-stanza) (2.3.2)\n",
      "Requirement already satisfied: torch>=1.3.0 in c:\\users\\misho\\anaconda3\\lib\\site-packages (from stanza<1.2.0,>=1.0.0->spacy-stanza) (1.4.0)\n",
      "Requirement already satisfied: numpy in c:\\users\\misho\\anaconda3\\lib\\site-packages (from stanza<1.2.0,>=1.0.0->spacy-stanza) (1.18.5)\n",
      "Requirement already satisfied: tqdm in c:\\users\\misho\\anaconda3\\lib\\site-packages (from stanza<1.2.0,>=1.0.0->spacy-stanza) (4.47.0)\n",
      "Requirement already satisfied: requests in c:\\users\\misho\\anaconda3\\lib\\site-packages (from stanza<1.2.0,>=1.0.0->spacy-stanza) (2.24.0)\n",
      "Collecting protobuf\n",
      "  Using cached protobuf-3.13.0-py2.py3-none-any.whl (438 kB)\n",
      "Requirement already satisfied: catalogue<1.1.0,>=0.0.7 in c:\\users\\misho\\anaconda3\\lib\\site-packages (from spacy<3.0.0,>=2.1.0->spacy-stanza) (1.0.0)\n",
      "Requirement already satisfied: plac<1.2.0,>=0.9.6 in c:\\users\\misho\\anaconda3\\lib\\site-packages (from spacy<3.0.0,>=2.1.0->spacy-stanza) (1.1.3)\n",
      "Requirement already satisfied: cymem<2.1.0,>=2.0.2 in c:\\users\\misho\\anaconda3\\lib\\site-packages (from spacy<3.0.0,>=2.1.0->spacy-stanza) (2.0.3)\n",
      "Requirement already satisfied: wasabi<1.1.0,>=0.4.0 in c:\\users\\misho\\anaconda3\\lib\\site-packages (from spacy<3.0.0,>=2.1.0->spacy-stanza) (0.8.0)\n",
      "Requirement already satisfied: setuptools in c:\\users\\misho\\anaconda3\\lib\\site-packages (from spacy<3.0.0,>=2.1.0->spacy-stanza) (49.2.0.post20200714)\n",
      "Requirement already satisfied: murmurhash<1.1.0,>=0.28.0 in c:\\users\\misho\\anaconda3\\lib\\site-packages (from spacy<3.0.0,>=2.1.0->spacy-stanza) (1.0.2)\n",
      "Requirement already satisfied: srsly<1.1.0,>=1.0.2 in c:\\users\\misho\\anaconda3\\lib\\site-packages (from spacy<3.0.0,>=2.1.0->spacy-stanza) (1.0.2)\n",
      "Requirement already satisfied: thinc==7.4.1 in c:\\users\\misho\\anaconda3\\lib\\site-packages (from spacy<3.0.0,>=2.1.0->spacy-stanza) (7.4.1)\n",
      "Requirement already satisfied: blis<0.5.0,>=0.4.0 in c:\\users\\misho\\anaconda3\\lib\\site-packages (from spacy<3.0.0,>=2.1.0->spacy-stanza) (0.4.1)\n",
      "Requirement already satisfied: preshed<3.1.0,>=3.0.2 in c:\\users\\misho\\anaconda3\\lib\\site-packages (from spacy<3.0.0,>=2.1.0->spacy-stanza) (3.0.2)\n",
      "Requirement already satisfied: chardet<4,>=3.0.2 in c:\\users\\misho\\anaconda3\\lib\\site-packages (from requests->stanza<1.2.0,>=1.0.0->spacy-stanza) (3.0.4)\n",
      "Requirement already satisfied: certifi>=2017.4.17 in c:\\users\\misho\\anaconda3\\lib\\site-packages (from requests->stanza<1.2.0,>=1.0.0->spacy-stanza) (2020.6.20)\n",
      "Requirement already satisfied: idna<3,>=2.5 in c:\\users\\misho\\anaconda3\\lib\\site-packages (from requests->stanza<1.2.0,>=1.0.0->spacy-stanza) (2.10)\n",
      "Requirement already satisfied: urllib3!=1.25.0,!=1.25.1,<1.26,>=1.21.1 in c:\\users\\misho\\anaconda3\\lib\\site-packages (from requests->stanza<1.2.0,>=1.0.0->spacy-stanza) (1.25.9)\n",
      "Requirement already satisfied: six>=1.9 in c:\\users\\misho\\anaconda3\\lib\\site-packages (from protobuf->stanza<1.2.0,>=1.0.0->spacy-stanza) (1.15.0)\n",
      "Installing collected packages: protobuf, stanza, spacy-stanza\n",
      "Successfully installed protobuf-3.13.0 spacy-stanza-0.2.4 stanza-1.1.1\n",
      "Note: you may need to restart the kernel to use updated packages.\n"
     ]
    }
   ],
   "source": [
    "pip install spacy-stanza"
   ]
  },
  {
   "cell_type": "code",
   "execution_count": null,
   "metadata": {},
   "outputs": [],
   "source": [
    "stanza.download('bg')"
   ]
  },
  {
   "cell_type": "code",
   "execution_count": 4,
   "metadata": {},
   "outputs": [
    {
     "name": "stdout",
     "output_type": "stream",
     "text": [
      "Collecting appmode\n",
      "  Downloading appmode-0.8.0.tar.gz (9.0 kB)\n",
      "Requirement already satisfied: notebook>=5 in c:\\users\\misho\\anaconda3\\lib\\site-packages (from appmode) (6.0.3)\n",
      "Requirement already satisfied: traitlets>=4.2.1 in c:\\users\\misho\\anaconda3\\lib\\site-packages (from notebook>=5->appmode) (4.3.3)\n",
      "Requirement already satisfied: terminado>=0.8.1 in c:\\users\\misho\\anaconda3\\lib\\site-packages (from notebook>=5->appmode) (0.8.3)\n",
      "Requirement already satisfied: jupyter-client>=5.3.4 in c:\\users\\misho\\anaconda3\\lib\\site-packages (from notebook>=5->appmode) (6.1.6)\n",
      "Requirement already satisfied: nbconvert in c:\\users\\misho\\anaconda3\\lib\\site-packages (from notebook>=5->appmode) (5.6.1)\n",
      "Requirement already satisfied: jupyter-core>=4.6.1 in c:\\users\\misho\\anaconda3\\lib\\site-packages (from notebook>=5->appmode) (4.6.3)\n",
      "Requirement already satisfied: pyzmq>=17 in c:\\users\\misho\\anaconda3\\lib\\site-packages (from notebook>=5->appmode) (19.0.1)\n",
      "Requirement already satisfied: ipykernel in c:\\users\\misho\\anaconda3\\lib\\site-packages (from notebook>=5->appmode) (5.3.2)\n",
      "Requirement already satisfied: jinja2 in c:\\users\\misho\\anaconda3\\lib\\site-packages (from notebook>=5->appmode) (2.11.2)\n",
      "Requirement already satisfied: ipython-genutils in c:\\users\\misho\\anaconda3\\lib\\site-packages (from notebook>=5->appmode) (0.2.0)\n",
      "Requirement already satisfied: Send2Trash in c:\\users\\misho\\anaconda3\\lib\\site-packages (from notebook>=5->appmode) (1.5.0)\n",
      "Requirement already satisfied: nbformat in c:\\users\\misho\\anaconda3\\lib\\site-packages (from notebook>=5->appmode) (5.0.7)\n",
      "Requirement already satisfied: prometheus-client in c:\\users\\misho\\anaconda3\\lib\\site-packages (from notebook>=5->appmode) (0.8.0)\n",
      "Note: you may need to restart the kernel to use updated packages.Requirement already satisfied: tornado>=5.0 in c:\\users\\misho\\anaconda3\\lib\\site-packages (from notebook>=5->appmode) (6.0.4)\n",
      "\n",
      "Requirement already satisfied: six in c:\\users\\misho\\anaconda3\\lib\\site-packages (from traitlets>=4.2.1->notebook>=5->appmode) (1.15.0)\n",
      "Requirement already satisfied: decorator in c:\\users\\misho\\anaconda3\\lib\\site-packages (from traitlets>=4.2.1->notebook>=5->appmode) (4.4.2)\n",
      "Requirement already satisfied: python-dateutil>=2.1 in c:\\users\\misho\\anaconda3\\lib\\site-packages (from jupyter-client>=5.3.4->notebook>=5->appmode) (2.8.1)\n",
      "Requirement already satisfied: testpath in c:\\users\\misho\\anaconda3\\lib\\site-packages (from nbconvert->notebook>=5->appmode) (0.4.4)\n",
      "Requirement already satisfied: mistune<2,>=0.8.1 in c:\\users\\misho\\anaconda3\\lib\\site-packages (from nbconvert->notebook>=5->appmode) (0.8.4)\n",
      "Requirement already satisfied: bleach in c:\\users\\misho\\anaconda3\\lib\\site-packages (from nbconvert->notebook>=5->appmode) (3.1.5)\n",
      "Requirement already satisfied: entrypoints>=0.2.2 in c:\\users\\misho\\anaconda3\\lib\\site-packages (from nbconvert->notebook>=5->appmode) (0.3)\n",
      "Requirement already satisfied: pygments in c:\\users\\misho\\anaconda3\\lib\\site-packages (from nbconvert->notebook>=5->appmode) (2.6.1)\n",
      "Requirement already satisfied: pandocfilters>=1.4.1 in c:\\users\\misho\\anaconda3\\lib\\site-packages (from nbconvert->notebook>=5->appmode) (1.4.2)\n",
      "Requirement already satisfied: defusedxml in c:\\users\\misho\\anaconda3\\lib\\site-packages (from nbconvert->notebook>=5->appmode) (0.6.0)\n",
      "Requirement already satisfied: pywin32>=1.0; sys_platform == \"win32\" in c:\\users\\misho\\anaconda3\\lib\\site-packages (from jupyter-core>=4.6.1->notebook>=5->appmode) (227)\n",
      "Requirement already satisfied: ipython>=5.0.0 in c:\\users\\misho\\anaconda3\\lib\\site-packages (from ipykernel->notebook>=5->appmode) (7.16.1)\n",
      "Requirement already satisfied: MarkupSafe>=0.23 in c:\\users\\misho\\anaconda3\\lib\\site-packages (from jinja2->notebook>=5->appmode) (1.1.1)\n",
      "Requirement already satisfied: jsonschema!=2.5.0,>=2.4 in c:\\users\\misho\\anaconda3\\lib\\site-packages (from nbformat->notebook>=5->appmode) (3.2.0)\n",
      "Requirement already satisfied: packaging in c:\\users\\misho\\anaconda3\\lib\\site-packages (from bleach->nbconvert->notebook>=5->appmode) (20.4)\n",
      "Requirement already satisfied: webencodings in c:\\users\\misho\\anaconda3\\lib\\site-packages (from bleach->nbconvert->notebook>=5->appmode) (0.5.1)\n",
      "Requirement already satisfied: prompt-toolkit!=3.0.0,!=3.0.1,<3.1.0,>=2.0.0 in c:\\users\\misho\\anaconda3\\lib\\site-packages (from ipython>=5.0.0->ipykernel->notebook>=5->appmode) (3.0.5)\n",
      "Requirement already satisfied: jedi>=0.10 in c:\\users\\misho\\anaconda3\\lib\\site-packages (from ipython>=5.0.0->ipykernel->notebook>=5->appmode) (0.17.1)\n",
      "Requirement already satisfied: colorama; sys_platform == \"win32\" in c:\\users\\misho\\anaconda3\\lib\\site-packages (from ipython>=5.0.0->ipykernel->notebook>=5->appmode) (0.4.3)\n",
      "Requirement already satisfied: backcall in c:\\users\\misho\\anaconda3\\lib\\site-packages (from ipython>=5.0.0->ipykernel->notebook>=5->appmode) (0.2.0)\n",
      "Requirement already satisfied: pickleshare in c:\\users\\misho\\anaconda3\\lib\\site-packages (from ipython>=5.0.0->ipykernel->notebook>=5->appmode) (0.7.5)\n",
      "Requirement already satisfied: setuptools>=18.5 in c:\\users\\misho\\anaconda3\\lib\\site-packages (from ipython>=5.0.0->ipykernel->notebook>=5->appmode) (49.2.0.post20200714)\n",
      "Requirement already satisfied: attrs>=17.4.0 in c:\\users\\misho\\anaconda3\\lib\\site-packages (from jsonschema!=2.5.0,>=2.4->nbformat->notebook>=5->appmode) (19.3.0)\n",
      "Requirement already satisfied: pyrsistent>=0.14.0 in c:\\users\\misho\\anaconda3\\lib\\site-packages (from jsonschema!=2.5.0,>=2.4->nbformat->notebook>=5->appmode) (0.16.0)\n",
      "Requirement already satisfied: pyparsing>=2.0.2 in c:\\users\\misho\\anaconda3\\lib\\site-packages (from packaging->bleach->nbconvert->notebook>=5->appmode) (2.4.7)\n",
      "Requirement already satisfied: wcwidth in c:\\users\\misho\\anaconda3\\lib\\site-packages (from prompt-toolkit!=3.0.0,!=3.0.1,<3.1.0,>=2.0.0->ipython>=5.0.0->ipykernel->notebook>=5->appmode) (0.2.5)\n",
      "Requirement already satisfied: parso<0.8.0,>=0.7.0 in c:\\users\\misho\\anaconda3\\lib\\site-packages (from jedi>=0.10->ipython>=5.0.0->ipykernel->notebook>=5->appmode) (0.7.0)\n",
      "Building wheels for collected packages: appmode\n",
      "  Building wheel for appmode (setup.py): started\n",
      "  Building wheel for appmode (setup.py): finished with status 'done'\n",
      "  Created wheel for appmode: filename=appmode-0.8.0-py3-none-any.whl size=12131 sha256=9bc963510d4c99a17799f5f853a92c437850a8f55ef2ed114a1860f4edbb2ae0\n",
      "  Stored in directory: c:\\users\\misho\\appdata\\local\\pip\\cache\\wheels\\76\\51\\6a\\3c9998fd89c13b09ef4d38357197356b95c4f2c44e4dfa97a2\n",
      "Successfully built appmode\n",
      "Installing collected packages: appmode\n",
      "Successfully installed appmode-0.8.0\n"
     ]
    }
   ],
   "source": [
    "pip install appmode\n",
    "# run from comand line this two comands\n",
    "# jupyter nbextension     enable --py --sys-prefix appmode\n",
    "# jupyter serverextension enable --py --sys-prefix appmode"
   ]
  },
  {
   "cell_type": "code",
   "execution_count": null,
   "metadata": {},
   "outputs": [],
   "source": []
  }
 ],
 "metadata": {
  "kernelspec": {
   "display_name": "Python 3",
   "language": "python",
   "name": "python3"
  },
  "language_info": {
   "codemirror_mode": {
    "name": "ipython",
    "version": 3
   },
   "file_extension": ".py",
   "mimetype": "text/x-python",
   "name": "python",
   "nbconvert_exporter": "python",
   "pygments_lexer": "ipython3",
   "version": "3.8.3"
  }
 },
 "nbformat": 4,
 "nbformat_minor": 4
}
