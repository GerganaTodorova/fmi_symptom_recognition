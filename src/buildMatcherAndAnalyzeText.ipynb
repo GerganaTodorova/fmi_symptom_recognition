{
 "cells": [
  {
   "cell_type": "code",
   "execution_count": 83,
   "metadata": {},
   "outputs": [],
   "source": [
    "#imports\n",
    "import spacy\n",
    "import stanza\n",
    "from spacy_stanza import StanzaLanguage\n",
    "from spacy.matcher import PhraseMatcher\n",
    "from spacy.pipeline import EntityRuler\n",
    "from spacy.tokens import Span\n",
    "import pandas as pd\n",
    "from spacy import displacy"
   ]
  },
  {
   "cell_type": "code",
   "execution_count": 84,
   "metadata": {},
   "outputs": [
    {
     "name": "stderr",
     "output_type": "stream",
     "text": [
      "2020-11-04 19:02:44 INFO: Loading these models for language: bg (Bulgarian):\n",
      "=======================\n",
      "| Processor | Package |\n",
      "-----------------------\n",
      "| tokenize  | btb     |\n",
      "| pos       | btb     |\n",
      "| lemma     | btb     |\n",
      "| depparse  | btb     |\n",
      "=======================\n",
      "\n",
      "2020-11-04 19:02:44 INFO: Use device: gpu\n",
      "2020-11-04 19:02:44 INFO: Loading: tokenize\n",
      "2020-11-04 19:02:44 INFO: Loading: pos\n",
      "2020-11-04 19:02:45 INFO: Loading: lemma\n",
      "2020-11-04 19:02:45 INFO: Loading: depparse\n",
      "2020-11-04 19:02:46 INFO: Done loading processors!\n"
     ]
    }
   ],
   "source": [
    "# LOAD ENTITY RULER\n",
    "\n",
    "snlp = stanza.Pipeline(lang=\"bg\")\n",
    "nlp = StanzaLanguage(snlp)\n",
    "ruler = EntityRuler(nlp)\n",
    "ruler.from_disk(\"entity_ruler\")  \n",
    "nlp.add_pipe(ruler)"
   ]
  },
  {
   "cell_type": "code",
   "execution_count": 85,
   "metadata": {},
   "outputs": [],
   "source": [
    "# function for display options - describes color options for visualizing the named entities\n",
    "def getDisplayOptions():\n",
    "\n",
    "    entities = [\"ORGAN\", \"ANATOMICAL_SYSTEM\", \"SYMPTOM\", \"COMPLAINT\", \"FAMILY\", \"RISK_FACTOR\"]\n",
    "    \n",
    "    colors = {\"ORGAN\":\"#F9E79F\", \"ANATOMICAL_SYSTEM\":\"#6fcbf7\", \"SYMPTOM\":\"#F4D03F\", \n",
    "              \"FAMILY\":\"#faa0eb\", \"RISK_FACTOR\":\"#f8717d\", \"COMPLAINT\":\"#A9DFBF\"}\n",
    "    \n",
    "    options = {\"ents\": entities, \"colors\": colors}\n",
    "    \n",
    "    return options"
   ]
  },
  {
   "cell_type": "code",
   "execution_count": 99,
   "metadata": {},
   "outputs": [],
   "source": [
    "import re\n",
    "# text to analyze\n",
    "text = \"Оплаква се от световъртеж, неспирно дразнене  на носа, силна плачливост, обща отпадналост при ехография на коремни органи установена Ту формация в малък таз. Страда от болки в ръката. Наследствено обременена по майчина линия Консултирана с АГ.Оперирана В момента провежда химиотерапия; Не съобщава за оплаквания от страна на сърдечносъдовата система. Пуши от 20 години. \"\n",
    "\n",
    "lowerTextWithoutMultipleSpaces = re.sub(' +', ' ', text.lower()) # make text to lowercase and remove multiple spaces\n",
    "\n",
    "formatedText = re.sub('\\\\.', ' .', lowerTextWithoutMultipleSpaces) # add space before \".\"\n",
    "doc = nlp(formatedText)"
   ]
  },
  {
   "cell_type": "code",
   "execution_count": 100,
   "metadata": {},
   "outputs": [],
   "source": [
    "#ANALYZE TEXT\n",
    "\n",
    "# change doc tokenization: merge words from one entity\n",
    "with doc.retokenize() as retokenizer:\n",
    "    for ent in doc.ents:\n",
    "        retokenizer.merge(doc[ent.start:ent.end])\n",
    "\n",
    "\n",
    "#add mather rules - using lamatization and entities from ruler\n",
    "from spacy.matcher import Matcher\n",
    "matcher = Matcher(nlp.vocab)\n",
    "\n",
    "pattern =[{'POS': 'ADJ',  'OP': '*'},{'ENT_TYPE': {'REGEX': 'ORGAN', 'OP': '+'}}]\n",
    "matcher.add('ORGAN', None, pattern)\n",
    "\n",
    "pattern =[{'ENT_TYPE': {'REGEX': 'ANATOMICAL_SYSTEM', 'OP': '+'}}]\n",
    "matcher.add('ANATOMICAL_SYSTEM', None, pattern)\n",
    "\n",
    "pattern =[{'POS': 'ADJ',  'OP': '*'},{'ENT_TYPE': {'REGEX': 'SYMPTOM', 'OP': '+'}}]\n",
    "matcher.add('SYMPTOM', None, pattern)\n",
    "\n",
    "pattern =[{'POS': 'ADJ',  'OP': '*'},{'ENT_TYPE': {'REGEX': 'COMPLAINT', 'OP': '+'}}]\n",
    "matcher.add('COMPLAINT', None, pattern)\n",
    "\n",
    "pattern =[{'ENT_TYPE': {'REGEX': 'FAMILY', 'OP': '+'}}]\n",
    "matcher.add('FAMILY', None, pattern)\n",
    "\n",
    "pattern =[{'ENT_TYPE': {'REGEX': 'RISK_FACTOR', 'OP': '+'}}]\n",
    "matcher.add('RISK_FACTOR', None, pattern)\n",
    "\n",
    "pattern =[{'POS': 'ADJ',  'OP': '*'},{'ENT_TYPE': {'REGEX': 'COMPLAINT', 'OP': '+'}},{'POS': 'ADP', 'OP': '+'}, {'POS': 'ADJ',  'OP': '*'}, {'ENT_TYPE': {'REGEX': 'ORGAN', 'OP': '+'}}]\n",
    "matcher.add('COMPLAINT', None, pattern)\n",
    "\n",
    "pattern =[{'POS': 'ADJ',  'OP': '*'},{'ENT_TYPE': {'REGEX': 'SYMPTOM', 'OP': '+'}},{'POS': 'ADP', 'OP': '+'}, {'POS': 'ADJ',  'OP': '*'}, {'ENT_TYPE': {'REGEX': 'ORGAN', 'OP': '+'}}]\n",
    "matcher.add('SYMPTOM', None, pattern)\n",
    "\n",
    "matches = matcher(doc)\n",
    "\n",
    "    \n",
    "spans = []    \n",
    "doc.ents = [] # clear entities in doc (created from ruler)\n",
    "\n",
    "for match_id, start, end in matches:\n",
    "    # create a new Span for each match and use the match_id as the label\n",
    "    spans.append(Span(doc, start, end, label=match_id))\n",
    "spans = spacy.util.filter_spans(spans); # clear overlaping spans\n",
    "\n",
    "# add all matching entities to doc.ents\n",
    "for span in spans:\n",
    "    doc.ents = list(doc.ents) + [span]  # add span to doc.ents"
   ]
  },
  {
   "cell_type": "code",
   "execution_count": 101,
   "metadata": {},
   "outputs": [
    {
     "data": {
      "text/html": [
       "<span class=\"tex2jax_ignore\"><div class=\"entities\" style=\"line-height: 2.5; direction: ltr\">оплаква се от \n",
       "<mark class=\"entity\" style=\"background: #A9DFBF; padding: 0.45em 0.6em; margin: 0 0.25em; line-height: 1; border-radius: 0.35em;\">\n",
       "    световъртеж\n",
       "    <span style=\"font-size: 0.8em; font-weight: bold; line-height: 1; border-radius: 0.35em; text-transform: uppercase; vertical-align: middle; margin-left: 0.5rem\">COMPLAINT</span>\n",
       "</mark>\n",
       ", \n",
       "<mark class=\"entity\" style=\"background: #A9DFBF; padding: 0.45em 0.6em; margin: 0 0.25em; line-height: 1; border-radius: 0.35em;\">\n",
       "    неспирно дразнене на носа\n",
       "    <span style=\"font-size: 0.8em; font-weight: bold; line-height: 1; border-radius: 0.35em; text-transform: uppercase; vertical-align: middle; margin-left: 0.5rem\">COMPLAINT</span>\n",
       "</mark>\n",
       ", \n",
       "<mark class=\"entity\" style=\"background: #A9DFBF; padding: 0.45em 0.6em; margin: 0 0.25em; line-height: 1; border-radius: 0.35em;\">\n",
       "    силна плачливост\n",
       "    <span style=\"font-size: 0.8em; font-weight: bold; line-height: 1; border-radius: 0.35em; text-transform: uppercase; vertical-align: middle; margin-left: 0.5rem\">COMPLAINT</span>\n",
       "</mark>\n",
       ", \n",
       "<mark class=\"entity\" style=\"background: #A9DFBF; padding: 0.45em 0.6em; margin: 0 0.25em; line-height: 1; border-radius: 0.35em;\">\n",
       "    обща отпадналост\n",
       "    <span style=\"font-size: 0.8em; font-weight: bold; line-height: 1; border-radius: 0.35em; text-transform: uppercase; vertical-align: middle; margin-left: 0.5rem\">COMPLAINT</span>\n",
       "</mark>\n",
       " при ехография на коремни органи \n",
       "<mark class=\"entity\" style=\"background: #F4D03F; padding: 0.45em 0.6em; margin: 0 0.25em; line-height: 1; border-radius: 0.35em;\">\n",
       "    установена ту формация в малък таз\n",
       "    <span style=\"font-size: 0.8em; font-weight: bold; line-height: 1; border-radius: 0.35em; text-transform: uppercase; vertical-align: middle; margin-left: 0.5rem\">SYMPTOM</span>\n",
       "</mark>\n",
       " . страда от \n",
       "<mark class=\"entity\" style=\"background: #A9DFBF; padding: 0.45em 0.6em; margin: 0 0.25em; line-height: 1; border-radius: 0.35em;\">\n",
       "    болки в ръката\n",
       "    <span style=\"font-size: 0.8em; font-weight: bold; line-height: 1; border-radius: 0.35em; text-transform: uppercase; vertical-align: middle; margin-left: 0.5rem\">COMPLAINT</span>\n",
       "</mark>\n",
       " . наследствено обременена по \n",
       "<mark class=\"entity\" style=\"background: #faa0eb; padding: 0.45em 0.6em; margin: 0 0.25em; line-height: 1; border-radius: 0.35em;\">\n",
       "    майчина линия\n",
       "    <span style=\"font-size: 0.8em; font-weight: bold; line-height: 1; border-radius: 0.35em; text-transform: uppercase; vertical-align: middle; margin-left: 0.5rem\">FAMILY</span>\n",
       "</mark>\n",
       " консултирана с аг .оперирана в момента провежда химиотерапия; не съобщава за оплаквания от страна на \n",
       "<mark class=\"entity\" style=\"background: #6fcbf7; padding: 0.45em 0.6em; margin: 0 0.25em; line-height: 1; border-radius: 0.35em;\">\n",
       "    сърдечносъдовата система\n",
       "    <span style=\"font-size: 0.8em; font-weight: bold; line-height: 1; border-radius: 0.35em; text-transform: uppercase; vertical-align: middle; margin-left: 0.5rem\">ANATOMICAL_SYSTEM</span>\n",
       "</mark>\n",
       " . \n",
       "<mark class=\"entity\" style=\"background: #f8717d; padding: 0.45em 0.6em; margin: 0 0.25em; line-height: 1; border-radius: 0.35em;\">\n",
       "    пуши\n",
       "    <span style=\"font-size: 0.8em; font-weight: bold; line-height: 1; border-radius: 0.35em; text-transform: uppercase; vertical-align: middle; margin-left: 0.5rem\">RISK_FACTOR</span>\n",
       "</mark>\n",
       " от 20 години . </div></span>"
      ],
      "text/plain": [
       "<IPython.core.display.HTML object>"
      ]
     },
     "metadata": {},
     "output_type": "display_data"
    }
   ],
   "source": [
    "#DISPLAY RESULTS\n",
    "displacy.render(doc, style='ent', jupyter=True, options=getDisplayOptions())"
   ]
  },
  {
   "cell_type": "code",
   "execution_count": null,
   "metadata": {},
   "outputs": [],
   "source": []
  }
 ],
 "metadata": {
  "kernelspec": {
   "display_name": "Python 3",
   "language": "python",
   "name": "python3"
  },
  "language_info": {
   "codemirror_mode": {
    "name": "ipython",
    "version": 3
   },
   "file_extension": ".py",
   "mimetype": "text/x-python",
   "name": "python",
   "nbconvert_exporter": "python",
   "pygments_lexer": "ipython3",
   "version": "3.8.3"
  }
 },
 "nbformat": 4,
 "nbformat_minor": 4
}
