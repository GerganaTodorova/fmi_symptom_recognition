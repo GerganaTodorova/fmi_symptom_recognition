{
 "cells": [
  {
   "cell_type": "code",
   "execution_count": 1,
   "metadata": {},
   "outputs": [],
   "source": [
    "#imports\n",
    "import spacy\n",
    "import stanza\n",
    "from spacy_stanza import StanzaLanguage\n",
    "from spacy.matcher import PhraseMatcher\n",
    "from spacy.pipeline import EntityRuler\n",
    "from spacy.tokens import Span\n",
    "import pandas as pd\n",
    "from spacy import displacy"
   ]
  },
  {
   "cell_type": "code",
   "execution_count": 2,
   "metadata": {},
   "outputs": [],
   "source": [
    "DATA_PATH = '..\\\\data\\\\'"
   ]
  },
  {
   "cell_type": "code",
   "execution_count": 3,
   "metadata": {},
   "outputs": [],
   "source": [
    "#LOAD lexicons\n",
    "organs = pd.read_csv('{0}{1}'.format(DATA_PATH, \"organs.csv\"), sep='\\n', usecols=['name'], squeeze=True)\n",
    "complaints = pd.read_csv('{0}{1}'.format(DATA_PATH,\"complaints.csv\"), sep='\\n', usecols=['name'], squeeze=True)\n",
    "symptoms = pd.read_csv('{0}{1}'.format(DATA_PATH,\"symptoms.csv\"), sep='\\n', usecols=['name'], squeeze=True)\n",
    "anatomicalSystems = pd.read_csv('{0}{1}'.format(DATA_PATH,\"systems.csv\"), sep=',', usecols=['name'], squeeze=True)\n",
    "familyRelations = pd.read_csv('{0}{1}'.format(DATA_PATH,\"familyRelations.csv\"), sep='\\n', usecols=['name'], squeeze=True)\n",
    "riskFactors = pd.read_csv('{0}{1}'.format(DATA_PATH,\"riskFactors.csv\"), sep=',', usecols=['name'], squeeze=True)"
   ]
  },
  {
   "cell_type": "code",
   "execution_count": 4,
   "metadata": {},
   "outputs": [
    {
     "name": "stderr",
     "output_type": "stream",
     "text": [
      "2020-11-23 21:17:09 INFO: Loading these models for language: bg (Bulgarian):\n",
      "=======================\n",
      "| Processor | Package |\n",
      "-----------------------\n",
      "| tokenize  | btb     |\n",
      "| pos       | btb     |\n",
      "| lemma     | btb     |\n",
      "| depparse  | btb     |\n",
      "=======================\n",
      "\n",
      "2020-11-23 21:17:09 INFO: Use device: gpu\n",
      "2020-11-23 21:17:09 INFO: Loading: tokenize\n",
      "2020-11-23 21:17:12 INFO: Loading: pos\n",
      "2020-11-23 21:17:13 INFO: Loading: lemma\n",
      "2020-11-23 21:17:13 INFO: Loading: depparse\n",
      "2020-11-23 21:17:14 INFO: Done loading processors!\n"
     ]
    }
   ],
   "source": [
    "#build ruler and save to disk\n",
    "\n",
    "snlp = stanza.Pipeline(lang=\"bg\")\n",
    "nlp = StanzaLanguage(snlp)\n",
    "ruler = EntityRuler(nlp, overwrite_ents=True, phrase_matcher_attr='LEMMA')\n",
    "\n",
    "for organ in organs:\n",
    "    doc = nlp.make_doc(organ)\n",
    "    token_pattern = [{\"lower\": token.lower_} for token in doc]\n",
    "    ruler.add_patterns([{\"label\": \"ORGAN\", \"pattern\": token_pattern}])\n",
    "    \n",
    "for complaint in complaints:\n",
    "    doc = nlp.make_doc(complaint)\n",
    "    token_pattern = [{\"lower\": token.lower_} for token in doc]\n",
    "    ruler.add_patterns([{\"label\": \"COMPLAINT\", \"pattern\": token_pattern}])\n",
    "    \n",
    "for symptom in symptoms:\n",
    "    doc = nlp.make_doc(symptom)\n",
    "    token_pattern = [{\"lower\": token.lower_} for token in doc]\n",
    "    ruler.add_patterns([{\"label\": \"SYMPTOM\", \"pattern\": token_pattern}])\n",
    "    \n",
    "for system in anatomicalSystems:\n",
    "    doc = nlp.make_doc(system)\n",
    "    token_pattern = [{\"lower\": token.lower_} for token in doc]\n",
    "    ruler.add_patterns([{\"label\": \"ANATOMICAL_SYSTEM\", \"pattern\": token_pattern}])\n",
    "    \n",
    "for familyRelation in familyRelations:\n",
    "    doc = nlp.make_doc(familyRelation)\n",
    "    token_pattern = [{\"lower\": token.lower_} for token in doc]\n",
    "    ruler.add_patterns([{\"label\": \"FAMILY\", \"pattern\": token_pattern}])\n",
    "    \n",
    "for riskFactor in riskFactors:\n",
    "    doc = nlp.make_doc(riskFactor)\n",
    "    token_pattern = [{\"lower\": token.lower_} for token in doc]\n",
    "    ruler.add_patterns([{\"label\": \"RISK_FACTOR\", \"pattern\": token_pattern}])\n",
    "    \n",
    "\n",
    "ruler.to_disk(\"entity_ruler\") "
   ]
  },
  {
   "cell_type": "code",
   "execution_count": null,
   "metadata": {},
   "outputs": [],
   "source": []
  }
 ],
 "metadata": {
  "celltoolbar": "Raw Cell Format",
  "kernelspec": {
   "display_name": "Python 3",
   "language": "python",
   "name": "python3"
  },
  "language_info": {
   "codemirror_mode": {
    "name": "ipython",
    "version": 3
   },
   "file_extension": ".py",
   "mimetype": "text/x-python",
   "name": "python",
   "nbconvert_exporter": "python",
   "pygments_lexer": "ipython3",
   "version": "3.8.3"
  }
 },
 "nbformat": 4,
 "nbformat_minor": 4
}
